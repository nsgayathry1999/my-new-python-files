{
 "cells": [
  {
   "cell_type": "code",
   "execution_count": null,
   "id": "8e197ff6-02b0-465e-9abc-94d291dd6062",
   "metadata": {},
   "outputs": [],
   "source": [
    "import matplotlib.pyplot as plt\n",
    "import seaborn as sns\n",
    "\n",
    "# Exercise 1: Line Plot for City Population Growth\n",
    "years = [2010, 2011, 2012, 2013, 2014, 2015, 2016]\n",
    "city_a = [500000, 550000, 600000, 650000, 700000, 750000, 800000]\n",
    "city_b = [800000, 850000, 900000, 950000, 1000000, 1050000, 1100000]\n",
    "city_c = [1000000, 1050000, 1100000, 1150000, 1200000, 1250000, 1300000]\n",
    "city_d = [1200000, 1250000, 1300000, 1350000, 1400000, 1450000, 1500000]\n",
    "\n",
    "plt.figure(figsize=(10, 5))\n",
    "plt.plot(years, city_a, marker='o', label='City A')\n",
    "plt.plot(years, city_b, marker='s', label='City B')\n",
    "plt.plot(years, city_c, marker='^', label='City C')\n",
    "plt.plot(years, city_d, marker='d', label='City D')\n",
    "plt.xlabel(\"Year\")\n",
    "plt.ylabel(\"Population\")\n",
    "plt.title(\"City Population Over Time\")\n",
    "plt.legend()\n",
    "plt.grid()\n",
    "plt.show()\n",
    "\n",
    "\n"
   ]
  },
  {
   "cell_type": "code",
   "execution_count": null,
   "id": "a54750b5-2f6e-4c31-b4fe-9b91396adeaa",
   "metadata": {},
   "outputs": [],
   "source": [
    "# Exercise 2: Scatter Plot for Study Hours vs Test Scores\n",
    "hours_studied = [1, 2, 3, 4, 5, 6, 7, 8, 9, 10]\n",
    "test_scores = [93, 57, 61, 54, 51, 53, 87, 81, 83, 85]\n",
    "\n",
    "plt.figure(figsize=(8, 5))\n",
    "sns.scatterplot(x=hours_studied, y=test_scores)\n",
    "plt.xlabel(\"Hours Studied\")\n",
    "plt.ylabel(\"Test Score\")\n",
    "plt.title(\"Hours Studied vs Test Scores\")\n",
    "plt.show()"
   ]
  },
  {
   "cell_type": "code",
   "execution_count": null,
   "id": "7512b930-f63b-4973-a6cc-f6ae04d85158",
   "metadata": {},
   "outputs": [],
   "source": [
    "# Exercise 3: Bar Chart for Monthly Sales\n",
    "months = [\"Jan\", \"Feb\", \"Mar\", \"Apr\", \"May\", \"Jun\", \"Jul\", \"Aug\", \"Sep\", \"Oct\", \"Nov\", \"Dec\"]\n",
    "sales = [11860, 10480, 4997, 5523, 13965, 6011, 13158, 9533, 5158, 9058, 11346, 6675]\n",
    "\n",
    "plt.figure(figsize=(10, 5))\n",
    "plt.bar(months, sales, color='skyblue')\n",
    "plt.xlabel(\"Month\")\n",
    "plt.ylabel(\"Total Sales\")\n",
    "plt.title(\"Total Sales Per Month\")\n",
    "plt.xticks(rotation=45)\n",
    "plt.show()\n"
   ]
  }
 ],
 "metadata": {
  "kernelspec": {
   "display_name": "Python 3 (ipykernel)",
   "language": "python",
   "name": "python3"
  },
  "language_info": {
   "codemirror_mode": {
    "name": "ipython",
    "version": 3
   },
   "file_extension": ".py",
   "mimetype": "text/x-python",
   "name": "python",
   "nbconvert_exporter": "python",
   "pygments_lexer": "ipython3",
   "version": "3.12.7"
  }
 },
 "nbformat": 4,
 "nbformat_minor": 5
}
