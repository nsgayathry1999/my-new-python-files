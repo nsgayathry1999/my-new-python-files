{
 "cells": [
  {
   "cell_type": "markdown",
   "id": "5de7ce3d-9bc8-4c51-82ef-a6c47bb4586f",
   "metadata": {},
   "source": [
    "## (1) Write a Python program to read a file and display its contents"
   ]
  },
  {
   "cell_type": "code",
   "execution_count": null,
   "id": "0388e64d-45f0-46a8-8c0d-44710b54db44",
   "metadata": {},
   "outputs": [],
   "source": [
    "with open(\"example.txt\", \"r\") as file:\n",
    "    content = file.read()\n",
    "    print(content)\n"
   ]
  },
  {
   "cell_type": "markdown",
   "id": "ed909345-8333-4787-80ca-29497d5fc1f3",
   "metadata": {},
   "source": [
    "### (2)Write a Python program to copy the contents of one file to another file\n",
    "\n"
   ]
  },
  {
   "cell_type": "code",
   "execution_count": null,
   "id": "997eac52-805a-4b95-92ca-4a1876e9fb3e",
   "metadata": {},
   "outputs": [],
   "source": [
    "with open(\"source.txt\", \"r\") as src, open(\"destination.txt\", \"w\") as dest:\n",
    "    dest.write(src.read())\n"
   ]
  },
  {
   "cell_type": "markdown",
   "id": "9cdddcc3-9c52-43da-8c9e-d0bdc8d77ead",
   "metadata": {},
   "source": [
    "### (3) Write a Python program to read the content of a file and count the total number of words in that file."
   ]
  },
  {
   "cell_type": "code",
   "execution_count": null,
   "id": "dbdda723-767d-467d-8447-19c0a63a96e9",
   "metadata": {},
   "outputs": [],
   "source": [
    "with open(\"example.txt\", \"r\") as file:\n",
    "    content = file.read()\n",
    "    words = content.split()\n",
    "    print(\"Total number of words:\", len(words))\n"
   ]
  },
  {
   "cell_type": "markdown",
   "id": "5ab9bf6b-98f4-4725-8985-b3fefa6167fd",
   "metadata": {},
   "source": [
    "### (4)Write a Python program that prompts the user to input a string and converts it to an integer. Use try-except blocks to handle any exceptions that might occur\n",
    "\n"
   ]
  },
  {
   "cell_type": "code",
   "execution_count": null,
   "id": "4d76bd5b-0301-4dfc-80a6-c5e90bbc314f",
   "metadata": {},
   "outputs": [],
   "source": [
    "try:\n",
    "    num = int(input(\"Enter a number: \"))\n",
    "    print(\"Integer value is:\", num)\n",
    "except ValueError:\n",
    "    print(\"Invalid input! Please enter a valid integer.\")\n"
   ]
  },
  {
   "cell_type": "markdown",
   "id": "f468e5c5-6bd5-4a7e-b0b5-e1a5c3f593d3",
   "metadata": {},
   "source": [
    "### (5)Write a Python program that prompts the user to input a list of integers and raises an exception if any of the integers in the list are negative."
   ]
  },
  {
   "cell_type": "code",
   "execution_count": null,
   "id": "142e25ad-8dab-459c-bcb3-5a790a0fea34",
   "metadata": {},
   "outputs": [],
   "source": [
    "numbers = input(\"Enter a list of integers separated by spaces: \").split()\n",
    "\n",
    "try:\n",
    "    int_list = [int(num) for num in numbers]\n",
    "    for num in int_list:\n",
    "        if num < 0:\n",
    "            raise ValueError(\"Negative integers are not allowed.\")\n",
    "    print(\"All numbers are non-negative.\")\n",
    "except ValueError as e:\n",
    "    print(\"Error:\", e)\n"
   ]
  },
  {
   "cell_type": "markdown",
   "id": "125d536d-2360-4d21-bcdf-ad40f605e9a7",
   "metadata": {},
   "source": [
    "### (6)Write a Python program that prompts the user to input a list of integers and computes the average of those integers. Use try-except blocks to handle any exceptions that might occur.use the finally clause to print a message indicating that the program has finished running."
   ]
  },
  {
   "cell_type": "code",
   "execution_count": null,
   "id": "d05dd96f-07b4-47e6-a2b3-3b688142b1bd",
   "metadata": {},
   "outputs": [],
   "source": [
    "try:\n",
    "    numbers = list(map(int, input(\"Enter a list of integers separated by spaces: \").split()))\n",
    "    average = sum(numbers) / len(numbers)\n",
    "    print(\"Average is:\", average)\n",
    "except ZeroDivisionError:\n",
    "    print(\"Cannot compute average of an empty list.\")\n",
    "except ValueError:\n",
    "    print(\"Invalid input! Please enter only integers.\")\n",
    "finally:\n",
    "    print(\"Program has finished running.\")\n"
   ]
  },
  {
   "cell_type": "markdown",
   "id": "65357ac3-5aff-4892-bb3a-8735894246a3",
   "metadata": {},
   "source": [
    "### (7)Write a Python program that prompts the user to input a filename and writes a string to that file. Use try-except blocks to handle any exceptions that might occur and print a welcome message if there is no exception occurred.\n"
   ]
  },
  {
   "cell_type": "code",
   "execution_count": null,
   "id": "01cfd2c1-7966-400d-b74e-bb34a873cb44",
   "metadata": {},
   "outputs": [],
   "source": [
    "try:\n",
    "    filename = input(\"Enter the filename: \")\n",
    "    text = input(\"Enter the text to write into the file: \")\n",
    "    with open(filename, \"w\") as file:\n",
    "        file.write(text)\n",
    "    print(\"Welcome! The file was written successfully.\")\n",
    "except Exception as e:\n",
    "    print(\"An error occurred:\", e)\n"
   ]
  }
 ],
 "metadata": {
  "kernelspec": {
   "display_name": "Python 3 (ipykernel)",
   "language": "python",
   "name": "python3"
  },
  "language_info": {
   "codemirror_mode": {
    "name": "ipython",
    "version": 3
   },
   "file_extension": ".py",
   "mimetype": "text/x-python",
   "name": "python",
   "nbconvert_exporter": "python",
   "pygments_lexer": "ipython3",
   "version": "3.12.7"
  }
 },
 "nbformat": 4,
 "nbformat_minor": 5
}
