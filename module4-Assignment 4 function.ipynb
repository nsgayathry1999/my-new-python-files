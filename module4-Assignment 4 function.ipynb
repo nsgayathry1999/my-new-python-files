{
 "cells": [
  {
   "cell_type": "markdown",
   "id": "fa1b095d-4443-410f-b243-74156c5644e4",
   "metadata": {},
   "source": [
    "##### Create a function that takes in three arguments, two of which are optional. The first argument should be a required positional argument, the second argument should be a keyword argument with a default value of 10, and the third argument should be a keyword argument with a default value of None. The function should print the sum of the first two arguments if the third argument is None, and print the product of all three arguments if the third argument is not None."
   ]
  },
  {
   "cell_type": "code",
   "execution_count": 4,
   "id": "800ddf5a-05f7-480e-b04f-e7672fa8f1b0",
   "metadata": {},
   "outputs": [],
   "source": [
    "def custom_function(a, b=10, c=None):\n",
    "    if c is None:\n",
    "        print(a + b)\n",
    "    else:\n",
    "        print(a * b * c)"
   ]
  },
  {
   "cell_type": "markdown",
   "id": "05cece7e-bcbe-4477-9562-53fdd4b61791",
   "metadata": {},
   "source": [
    "#####  Write a function that takes in a list of strings and returns a new list with only the strings that have a length greater than or equal to 5"
   ]
  },
  {
   "cell_type": "code",
   "execution_count": 24,
   "id": "5fbd5298-1e40-4e56-8065-a842780e49a9",
   "metadata": {},
   "outputs": [
    {
     "name": "stdout",
     "output_type": "stream",
     "text": [
      "['apple', 'banana', 'elephant']\n"
     ]
    }
   ],
   "source": [
    "def filter_long_strings(strings):\n",
    "    return [s for s in strings if len(s) >= 5]\n",
    "    \n",
    "words = [\"apple\", \"cat\", \"banana\", \"dog\", \"elephant\", \"fish\", \"tree\"]\n",
    "long_words = filter_long_strings(words)\n",
    "print(long_words)\n"
   ]
  },
  {
   "cell_type": "markdown",
   "id": "cd53282c-ba1c-4a27-a260-a76118eb72da",
   "metadata": {},
   "source": [
    "##### Write a Python program to evaluate a given mathematical expression using the eval() function. expression = \"3 * 5 + 2\""
   ]
  },
  {
   "cell_type": "code",
   "execution_count": 12,
   "id": "ef27c57d-c950-419f-be98-6d7531df372b",
   "metadata": {},
   "outputs": [
    {
     "name": "stdout",
     "output_type": "stream",
     "text": [
      "Expression result: 17\n"
     ]
    }
   ],
   "source": [
    "def evaluate_expression(expression):\n",
    "    return eval(expression)\n",
    "\n",
    "expression = \"3 * 5 + 2\"\n",
    "result = evaluate_expression(expression)\n",
    "print(\"Expression result:\", result)\n"
   ]
  },
  {
   "cell_type": "markdown",
   "id": "1b22f6b6-5bfe-441f-a6d8-c9e1f2ec67a0",
   "metadata": {},
   "source": [
    "##### Write a Python program to filter out the prime numbers from a given list of integers using the filter() function."
   ]
  },
  {
   "cell_type": "code",
   "execution_count": 22,
   "id": "e303e111-dc7f-46d1-b6ae-70ad649c8c3c",
   "metadata": {},
   "outputs": [
    {
     "name": "stdout",
     "output_type": "stream",
     "text": [
      "[2, 3, 5, 7, 11, 13, 17]\n"
     ]
    }
   ],
   "source": [
    "def is_prime(n):\n",
    "    if n < 2:\n",
    "        return False\n",
    "    for i in range(2, int(n ** 0.5) + 1):\n",
    "        if n % i == 0:\n",
    "            return False\n",
    "    return True\n",
    "\n",
    "def filter_primes(numbers):\n",
    "    return list(filter(is_prime, numbers))\n",
    "\n",
    "numbers = [1, 2, 3, 4, 5, 6, 7, 8, 9, 10, 11, 13, 15, 17]\n",
    "prime_numbers = filter_primes(numbers)\n",
    "print(prime_numbers)"
   ]
  },
  {
   "cell_type": "markdown",
   "id": "7fc28665-dc36-4826-8f31-ed74614530da",
   "metadata": {},
   "source": [
    "##### Write a Python program to convert a list of strings to uppercase using the map() function."
   ]
  },
  {
   "cell_type": "code",
   "execution_count": 20,
   "id": "6306dc9d-1b08-48f6-b594-c1f08343d3bd",
   "metadata": {},
   "outputs": [
    {
     "name": "stdout",
     "output_type": "stream",
     "text": [
      "['HELLO', 'WORLD', 'PYTHON']\n"
     ]
    }
   ],
   "source": [
    "def convert_to_uppercase(strings):\n",
    "    return list(map(str.upper, strings))\n",
    "words = [\"hello\", \"world\", \"python\"]\n",
    "result = convert_to_uppercase(words)\n",
    "print(result)"
   ]
  },
  {
   "cell_type": "code",
   "execution_count": null,
   "id": "fb4aa1f5-3a52-47aa-a034-ed3d257a4769",
   "metadata": {},
   "outputs": [],
   "source": []
  }
 ],
 "metadata": {
  "kernelspec": {
   "display_name": "Python 3 (ipykernel)",
   "language": "python",
   "name": "python3"
  },
  "language_info": {
   "codemirror_mode": {
    "name": "ipython",
    "version": 3
   },
   "file_extension": ".py",
   "mimetype": "text/x-python",
   "name": "python",
   "nbconvert_exporter": "python",
   "pygments_lexer": "ipython3",
   "version": "3.12.7"
  }
 },
 "nbformat": 4,
 "nbformat_minor": 5
}
